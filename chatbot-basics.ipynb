{
 "cells": [
  {
   "cell_type": "code",
   "execution_count": 1,
   "id": "00139279",
   "metadata": {
    "_cell_guid": "b1076dfc-b9ad-4769-8c92-a6c4dae69d19",
    "_uuid": "8f2839f25d086af736a60e9eeb907d3b93b6e0e5",
    "execution": {
     "iopub.execute_input": "2022-01-11T12:48:04.465699Z",
     "iopub.status.busy": "2022-01-11T12:48:04.465050Z",
     "iopub.status.idle": "2022-01-11T12:48:05.693839Z",
     "shell.execute_reply": "2022-01-11T12:48:05.693122Z",
     "shell.execute_reply.started": "2022-01-11T12:39:47.893448Z"
    },
    "papermill": {
     "duration": 1.24324,
     "end_time": "2022-01-11T12:48:05.694024",
     "exception": false,
     "start_time": "2022-01-11T12:48:04.450784",
     "status": "completed"
    },
    "tags": []
   },
   "outputs": [],
   "source": [
    "import os\n",
    "import torch\n",
    "import numpy as np\n",
    "import pandas as pd"
   ]
  },
  {
   "cell_type": "code",
   "execution_count": 2,
   "id": "28de7d1c",
   "metadata": {
    "execution": {
     "iopub.execute_input": "2022-01-11T12:48:05.714328Z",
     "iopub.status.busy": "2022-01-11T12:48:05.713239Z",
     "iopub.status.idle": "2022-01-11T12:48:05.720323Z",
     "shell.execute_reply": "2022-01-11T12:48:05.720924Z",
     "shell.execute_reply.started": "2022-01-11T12:46:12.010128Z"
    },
    "papermill": {
     "duration": 0.021237,
     "end_time": "2022-01-11T12:48:05.721101",
     "exception": false,
     "start_time": "2022-01-11T12:48:05.699864",
     "status": "completed"
    },
    "tags": []
   },
   "outputs": [],
   "source": [
    "intents = [\n",
    "        {\"tag\": \"greeting\",\n",
    "         \"patterns\": [\n",
    "                     \"Hi\", \n",
    "                     \"How are you\", \n",
    "                     \"Is anyone there?\", \n",
    "                     \"Hello\", \n",
    "                     \"Good day\"\n",
    "                      ],\n",
    "         \"responses\": [\n",
    "                     \"Hello, thanks for visiting\", \n",
    "                     \"Good to see you again\", \n",
    "                     \"Hi there, how can I help?\"\n",
    "                      ],\n",
    "         \"context_set\": \"\"\n",
    "        },\n",
    "        {\"tag\": \"goodbye\",\n",
    "         \"patterns\": [\n",
    "                     \"Bye\", \n",
    "                     \"See you later\", \n",
    "                     \"Goodbye\"\n",
    "                     ],\n",
    "         \"responses\": [\n",
    "                     \"See you later, thanks for visiting\", \n",
    "                     \"Have a nice day\", \n",
    "                     \"Bye! Come back again soon.\"\n",
    "                      ]\n",
    "        },\n",
    "        {\"tag\": \"thanks\",\n",
    "         \"patterns\": [\n",
    "                     \"Thanks\", \n",
    "                     \"Thank you\", \n",
    "                     \"That's helpful\"\n",
    "                     ],\n",
    "         \"responses\": [\n",
    "                     \"Happy to help!\", \n",
    "                     \"Any time!\", \n",
    "                     \"My pleasure\"\n",
    "                      ]\n",
    "        },\n",
    "        {\"tag\": \"hours\",\n",
    "         \"patterns\": [\n",
    "                     \"What hours are you open?\", \n",
    "                     \"What are your hours?\", \n",
    "                     \"When are you open?\" \n",
    "                     ],\n",
    "         \"responses\": [\n",
    "                     \"We're open every day 9am-9pm\", \n",
    "                     \"Our hours are 9am-9pm every day\"\n",
    "                      ]\n",
    "        },\n",
    "        {\"tag\": \"mopeds\",\n",
    "         \"patterns\": [\n",
    "                     \"Which mopeds do you have?\", \n",
    "                     \"What kinds of mopeds are there?\", \n",
    "                     \"What do you rent?\" \n",
    "                     ],\n",
    "         \"responses\": [\n",
    "                     \"We rent Yamaha, Piaggio and Vespa mopeds\", \n",
    "                     \"We have Piaggio, Vespa and Yamaha mopeds\"\n",
    "                      ]\n",
    "        },\n",
    "        {\"tag\": \"payments\",\n",
    "         \"patterns\": [\n",
    "                     \"Do you take credit cards?\", \n",
    "                     \"Do you accept Mastercard?\", \n",
    "                     \"Are you cash only?\" \n",
    "                     ],\n",
    "         \"responses\": [\n",
    "                     \"We accept VISA, Mastercard and AMEX\", \n",
    "                     \"We accept most major credit cards\"\n",
    "                      ]\n",
    "        },\n",
    "        {\"tag\": \"opentoday\",\n",
    "         \"patterns\": [\n",
    "                     \"Are you open today?\", \n",
    "                     \"When do you open today?\", \n",
    "                     \"What are your hours today?\"\n",
    "                     ],\n",
    "         \"responses\": [\n",
    "                     \"We're open every day from 9am-9pm\", \n",
    "                     \"Our hours are 9am-9pm every day\"\n",
    "                      ]\n",
    "        },\n",
    "        {\"tag\": \"rental\",\n",
    "         \"patterns\": [\n",
    "                     \"Can we rent a moped?\", \n",
    "                     \"I'd like to rent a moped\", \n",
    "                     \"How does this work?\" \n",
    "                     ],\n",
    "         \"responses\": [\n",
    "                     \"Are you looking to rent today or later this week?\"\n",
    "                      ],\n",
    "         \"context_set\": \"rentalday\"\n",
    "        },\n",
    "        {\"tag\": \"today\",\n",
    "         \"patterns\": [\n",
    "                     \"today\"\n",
    "                     ],\n",
    "         \"responses\": [\n",
    "                     \"For rentals today please call 1-800-MYMOPED\", \n",
    "                     \"Same-day rentals please call 1-800-MYMOPED\"\n",
    "                      ],\n",
    "         \"context_filter\": \"rentalday\"\n",
    "        }\n",
    "   ]"
   ]
  },
  {
   "cell_type": "code",
   "execution_count": 3,
   "id": "e892f08a",
   "metadata": {
    "execution": {
     "iopub.execute_input": "2022-01-11T12:48:05.734437Z",
     "iopub.status.busy": "2022-01-11T12:48:05.733476Z",
     "iopub.status.idle": "2022-01-11T12:48:05.741405Z",
     "shell.execute_reply": "2022-01-11T12:48:05.741909Z",
     "shell.execute_reply.started": "2022-01-11T12:46:12.555305Z"
    },
    "papermill": {
     "duration": 0.016231,
     "end_time": "2022-01-11T12:48:05.742076",
     "exception": false,
     "start_time": "2022-01-11T12:48:05.725845",
     "status": "completed"
    },
    "tags": []
   },
   "outputs": [
    {
     "data": {
      "text/plain": [
       "{'tag': 'greeting',\n",
       " 'patterns': ['Hi', 'How are you', 'Is anyone there?', 'Hello', 'Good day'],\n",
       " 'responses': ['Hello, thanks for visiting',\n",
       "  'Good to see you again',\n",
       "  'Hi there, how can I help?'],\n",
       " 'context_set': ''}"
      ]
     },
     "execution_count": 3,
     "metadata": {},
     "output_type": "execute_result"
    }
   ],
   "source": [
    "intents[0]"
   ]
  },
  {
   "cell_type": "code",
   "execution_count": null,
   "id": "d8625441",
   "metadata": {
    "papermill": {
     "duration": 0.004871,
     "end_time": "2022-01-11T12:48:05.752085",
     "exception": false,
     "start_time": "2022-01-11T12:48:05.747214",
     "status": "completed"
    },
    "tags": []
   },
   "outputs": [],
   "source": []
  }
 ],
 "metadata": {
  "kernelspec": {
   "display_name": "Python 3",
   "language": "python",
   "name": "python3"
  },
  "language_info": {
   "codemirror_mode": {
    "name": "ipython",
    "version": 3
   },
   "file_extension": ".py",
   "mimetype": "text/x-python",
   "name": "python",
   "nbconvert_exporter": "python",
   "pygments_lexer": "ipython3",
   "version": "3.7.12"
  },
  "papermill": {
   "default_parameters": {},
   "duration": 12.327395,
   "end_time": "2022-01-11T12:48:06.467198",
   "environment_variables": {},
   "exception": null,
   "input_path": "__notebook__.ipynb",
   "output_path": "__notebook__.ipynb",
   "parameters": {},
   "start_time": "2022-01-11T12:47:54.139803",
   "version": "2.3.3"
  }
 },
 "nbformat": 4,
 "nbformat_minor": 5
}
