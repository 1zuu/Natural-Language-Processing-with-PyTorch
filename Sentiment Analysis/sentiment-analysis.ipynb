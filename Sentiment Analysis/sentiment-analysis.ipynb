{
 "cells": [
  {
   "cell_type": "code",
   "execution_count": 1,
   "id": "a5a55e12-1f74-4ba5-8c25-afdefe93d214",
   "metadata": {},
   "outputs": [],
   "source": [
    "import re\n",
    "import numpy as np\n",
    "import pandas as pd\n",
    "\n",
    "import seaborn as sns\n",
    "from tqdm import tqdm\n",
    "import matplotlib.pyplot as plt\n",
    "\n",
    "from sklearn.utils import shuffle\n",
    "from sklearn.preprocessing import LabelEncoder\n",
    "from sklearn.model_selection import train_test_split\n",
    "\n",
    "from nltk import word_tokenize\n",
    "from nltk.corpus import stopwords\n",
    "from nltk.stem import WordNetLemmatizer\n",
    "from nltk.tokenize import RegexpTokenizer\n",
    "\n",
    "import torch\n",
    "import torch.nn as nn\n",
    "import torch.nn.functional as F\n",
    "from torch.utils.data import TensorDataset, DataLoader"
   ]
  },
  {
   "cell_type": "code",
   "execution_count": null,
   "id": "61d136ec-7a9e-4a9c-af44-f0732833082b",
   "metadata": {},
   "outputs": [],
   "source": [
    "file_name = 'tweets.csv'\n",
    "headers = ['target', 'ids', 'date', 'flag', 'user', 'text']\n",
    "\n",
    "lemmatizer = WordNetLemmatizer()\n",
    "tokenizer = RegexpTokenizer(r'\\w+')\n",
    "stopwords_list = stopwords.words('english')\n",
    "\n",
    "random_state = 1234\n",
    "test_size = 0.15\n",
    "val_size = 0.15\n",
    "\n",
    "oov_token = '<OOV>'\n",
    "pad_token = '<PAD>'\n",
    "\n",
    "batch_size = 128"
   ]
  },
  {
   "cell_type": "code",
   "execution_count": 3,
   "id": "b0f3b00c-2c13-46ba-845b-8ba62909f5cc",
   "metadata": {},
   "outputs": [],
   "source": [
    "def get_data(file_name):\n",
    "    data = pd.read_csv(\n",
    "                    file_name,\n",
    "                    names=headers,\n",
    "                    encoding='latin-1'\n",
    "                    )\n",
    "    data = data[['target', 'text']]\n",
    "    data['target'] = data['target'].astype(int)\n",
    "    data = data.dropna()\n",
    "    return data"
   ]
  },
  {
   "cell_type": "code",
   "execution_count": 4,
   "id": "badcd5c0-0983-4165-9f57-a53ade8110ea",
   "metadata": {},
   "outputs": [],
   "source": [
    "def vis_class_imbalance(data):\n",
    "    target = data['target'].values\n",
    "    counts = pd.Series(target).value_counts()\n",
    "    sns.barplot(\n",
    "            x=np.array(['negative','positive']),\n",
    "            y=counts.values\n",
    "               )  \n",
    "    plt.title('Class Imbalance of Twitter Dataset')\n",
    "    plt.xlabel('Sentiment')\n",
    "    plt.xlabel('Counts')\n",
    "    plt.savefig('imbalance.png')\n",
    "    plt.show()"
   ]
  },
  {
   "cell_type": "code",
   "execution_count": 5,
   "id": "5cc1049a-fd12-4131-bf2e-ea54761ea35b",
   "metadata": {},
   "outputs": [],
   "source": [
    "def lemmatization(lemmatizer,sentence):\n",
    "    lem = [lemmatizer.lemmatize(k) for k in sentence]\n",
    "    return [k for k in lem if k]\n",
    "\n",
    "def remove_stop_words(stopwords_list,sentence):\n",
    "    return [k for k in sentence if k not in stopwords_list]\n",
    "\n",
    "def preprocess_one(tweet):\n",
    "    tweet = tweet.lower()\n",
    "    remove_punc = tokenizer.tokenize(tweet) # Remove puntuations\n",
    "    remove_num = [re.sub('[0-9]', '', i) for i in remove_punc] # Remove Numbers\n",
    "    remove_num = [i for i in remove_num if len(i)>0] # Remove empty strings\n",
    "    lemmatized = lemmatization(lemmatizer,remove_num) # Word Lemmatization\n",
    "    remove_stop = remove_stop_words(stopwords_list,lemmatized) # remove stop words\n",
    "    updated_tweet = ' '.join(remove_stop)\n",
    "    return updated_tweet\n",
    "\n",
    "def preprocessed_data(tweets):\n",
    "    updated_tweets = []\n",
    "    if isinstance(tweets, np.ndarray) or isinstance(tweets, list):\n",
    "        for tweet in tweets:\n",
    "            updated_tweet = preprocess_one(tweet)\n",
    "            updated_tweets.append(updated_tweet)\n",
    "    elif isinstance(tweets, np.str_)  or isinstance(tweets, str):\n",
    "        updated_tweets = [preprocess_one(tweets)]\n",
    "\n",
    "    return np.array(updated_tweets)"
   ]
  },
  {
   "cell_type": "code",
   "execution_count": 6,
   "id": "aede67f6-f3c3-4ab8-b7ed-8f99cd389d67",
   "metadata": {},
   "outputs": [],
   "source": [
    "data = get_data(file_name)"
   ]
  },
  {
   "cell_type": "code",
   "execution_count": 7,
   "id": "21afd7d9-3fad-4fc1-b640-40c57f0523c3",
   "metadata": {},
   "outputs": [
    {
     "data": {
      "image/png": "[encoded data removed]",
      "text/plain": [
       "<Figure size 432x288 with 1 Axes>"
      ]
     },
     "metadata": {
      "needs_background": "light"
     },
     "output_type": "display_data"
    }
   ],
   "source": [
    "vis_class_imbalance(data)"
   ]
  },
  {
   "cell_type": "code",
   "execution_count": 10,
   "id": "26f9753a-7839-4b30-9315-b3e3efcf7b76",
   "metadata": {},
   "outputs": [
    {
     "name": "stdout",
     "output_type": "stream",
     "text": [
      "Train Samples : 1156000\n",
      "Val   Samples : 204000\n",
      "Test  Samples : 240000\n"
     ]
    }
   ],
   "source": [
    "tweets = data['text'].values\n",
    "targets = data['target'].values\n",
    "\n",
    "tweets, targets = shuffle(tweets, targets)\n",
    "\n",
    "tweets = preprocessed_data(tweets)\n",
    "\n",
    "X, X_test, Y, Y_test = train_test_split(\n",
    "                                    tweets, \n",
    "                                    targets, \n",
    "                                    test_size=test_size, \n",
    "                                    random_state=random_state\n",
    "                                    )\n",
    "\n",
    "X, X_val, Y, Y_val = train_test_split(\n",
    "                                    X, \n",
    "                                    Y, \n",
    "                                    test_size=val_size, \n",
    "                                    random_state=random_state\n",
    "                                    )\n",
    "\n",
    "print('Train Samples : {}'.format(len(Y)))\n",
    "print('Val   Samples : {}'.format(len(Y_val)))\n",
    "print('Test  Samples : {}'.format(len(Y_test)))\n",
    "\n",
    "encoder = LabelEncoder()\n",
    "encoder.fit(Y)\n",
    "\n",
    "Y = encoder.transform(Y)\n",
    "Y_val = encoder.transform(Y_val)\n",
    "Y_test = encoder.transform(Y_test)"
   ]
  },
  {
   "cell_type": "code",
   "execution_count": 11,
   "id": "52adde03-84d5-4664-b8dc-d55eb4c320d8",
   "metadata": {},
   "outputs": [],
   "source": [
    "def extract_vocabulary(X):\n",
    "    vocab = {}\n",
    "    for x in X:\n",
    "        tokens = x.split(' ')\n",
    "        for token in tokens:\n",
    "            if token in vocab:\n",
    "                vocab[token] += 1\n",
    "            else:\n",
    "                vocab[token] = 1\n",
    "                \n",
    "    vocab  = dict(\n",
    "                sorted(\n",
    "                    vocab.items(), \n",
    "                    key=lambda item: item[1], \n",
    "                    reverse=True\n",
    "                       )\n",
    "                )\n",
    "    vocab = {token : idx+1 for idx, token in enumerate(list(vocab.keys()))}\n",
    "    \n",
    "    vocab[oov_token] = len(vocab) + 1\n",
    "    vocab[pad_token] = 0\n",
    "    \n",
    "    print(f'The Size of the Vocabulary is {len(vocab)}')\n",
    "    \n",
    "    return vocab\n",
    "\n",
    "def tokenize_data(tweets, vocab):\n",
    "    sequences = []\n",
    "    for tweet in tweets:\n",
    "        tokens = tweet.split(' ')\n",
    "        sequence = [vocab[token] if (token in vocab) else vocab[oov_token] for token in tokens]\n",
    "        sequences.append(sequence)\n",
    "    return sequences\n",
    "\n",
    "def vis_length_variation(X_SEQ):\n",
    "    X_len = [len(i) for i in X_SEQ]\n",
    "    X_len = pd.Series(X_len)\n",
    "    X_len.hist()\n",
    "    plt.xlabel('Token Length')\n",
    "    plt.ylabel('Samples')\n",
    "    plt.savefig('sequence length.png')\n",
    "    plt.show()\n",
    "    \n",
    "    print(X_len.describe())"
   ]
  },
  {
   "cell_type": "code",
   "execution_count": 12,
   "id": "5861cdac-a508-4f9c-856e-95243cdd11ca",
   "metadata": {},
   "outputs": [
    {
     "name": "stdout",
     "output_type": "stream",
     "text": [
      "The Size of the Vocabulary is 498465\n"
     ]
    }
   ],
   "source": [
    "vocab = extract_vocabulary(X)"
   ]
  },
  {
   "cell_type": "code",
   "execution_count": 13,
   "id": "8ef2ec47-b910-43ec-a3f9-ccc3fe9ffe83",
   "metadata": {},
   "outputs": [],
   "source": [
    "X_SEQ = tokenize_data(X, vocab)\n",
    "X_val_SEQ = tokenize_data(X_val, vocab)\n",
    "X_test_SEQ = tokenize_data(X_test, vocab)"
   ]
  },
  {
   "cell_type": "code",
   "execution_count": 14,
   "id": "266b930e-6635-4529-8bf2-72bc60eaf689",
   "metadata": {},
   "outputs": [
    {
     "data": {
      "image/png": "[encoded data removed]",
      "text/plain": [
       "<Figure size 432x288 with 1 Axes>"
      ]
     },
     "metadata": {
      "needs_background": "light"
     },
     "output_type": "display_data"
    },
    {
     "name": "stdout",
     "output_type": "stream",
     "text": [
      "count    1.156000e+06\n",
      "mean     7.783764e+00\n",
      "std      4.112446e+00\n",
      "min      1.000000e+00\n",
      "25%      5.000000e+00\n",
      "50%      7.000000e+00\n",
      "75%      1.100000e+01\n",
      "max      1.190000e+02\n",
      "dtype: float64\n"
     ]
    }
   ],
   "source": [
    "vis_length_variation(X_SEQ)"
   ]
  },
  {
   "cell_type": "code",
   "execution_count": 15,
   "id": "31912f97-a364-493a-80e9-a9c5accebb50",
   "metadata": {},
   "outputs": [],
   "source": [
    "max_length = 110"
   ]
  },
  {
   "cell_type": "code",
   "execution_count": 16,
   "id": "7928cd45-3961-4907-ad9d-f030906e775c",
   "metadata": {},
   "outputs": [],
   "source": [
    "def pad_tokens(sequences, max_length=max_length):\n",
    "    seq_tensor = np.zeros((len(sequences), max_length))\n",
    "    for idx, sequence in enumerate(sequences):\n",
    "        if len(sequence) >= max_length:\n",
    "            seq_tensor[idx, :] = np.array(sequence[:max_length])\n",
    "        else:\n",
    "            redundancy_length = max_length - len(sequence)\n",
    "            padded_sequence = [vocab[pad_token]] * redundancy_length + sequence\n",
    "            seq_tensor[idx, :] = np.array(padded_sequence)\n",
    "            \n",
    "    return seq_tensor"
   ]
  },
  {
   "cell_type": "code",
   "execution_count": null,
   "id": "ec89c16a-f8e6-4b9b-a6f3-1944fe49ddce",
   "metadata": {},
   "outputs": [],
   "source": [
    "X_PAD = pad_tokens(X_SEQ)\n",
    "X_val_PAD = pad_tokens(X_val_SEQ)\n",
    "X_test_PAD = pad_tokens(X_test_SEQ)"
   ]
  },
  {
   "cell_type": "code",
   "execution_count": null,
   "id": "327c1488-bdc1-4201-9cac-e40eefa0deae",
   "metadata": {},
   "outputs": [],
   "source": [
    "X_PAD = X_PAD.astype(np.int32)\n",
    "X_val_PAD = X_val_PAD.astype(np.int32)\n",
    "X_test_PAD = X_test_PAD.astype(np.int32)"
   ]
  },
  {
   "cell_type": "code",
   "execution_count": null,
   "id": "d0babf45-00e0-470c-a395-193d63079be0",
   "metadata": {},
   "outputs": [],
   "source": [
    "X_PAD"
   ]
  },
  {
   "cell_type": "code",
   "execution_count": null,
   "id": "5161a2fd-0fae-485e-a70e-f16e2b8b10ef",
   "metadata": {},
   "outputs": [],
   "source": [
    "X_val_PAD"
   ]
  },
  {
   "cell_type": "code",
   "execution_count": null,
   "id": "c43cd898-9711-430a-88ee-f0098e38908e",
   "metadata": {},
   "outputs": [],
   "source": [
    "X_test_PAD"
   ]
  },
  {
   "cell_type": "code",
   "execution_count": null,
   "id": "925b8c5a-b821-432b-9a99-1718d952da8f",
   "metadata": {},
   "outputs": [],
   "source": [
    "#Tensor Dataset\n",
    "train_data = TensorDataset(\n",
    "                    torch.from_numpy(X_PAD), \n",
    "                    torch.from_numpy(Y)\n",
    "                            )\n",
    "\n",
    "valid_data = TensorDataset(\n",
    "                    torch.from_numpy(X_val_PAD), \n",
    "                    torch.from_numpy(Y_val)\n",
    "                            )\n",
    "\n",
    "test_data = TensorDataset(\n",
    "                    torch.from_numpy(X_test_PAD), \n",
    "                    torch.from_numpy(Y_test)\n",
    "                            )\n",
    "\n",
    "# dataloaders\n",
    "train_loader = DataLoader(\n",
    "                    train_data, \n",
    "                    shuffle=True, \n",
    "                    batch_size=batch_size\n",
    "                        )\n",
    "\n",
    "valid_loader = DataLoader(\n",
    "                    valid_data, \n",
    "                    shuffle=True, \n",
    "                    batch_size=batch_size\n",
    "                        )\n",
    "\n",
    "test_data = DataLoader(\n",
    "                    test_data, \n",
    "                    shuffle=True, \n",
    "                    batch_size=batch_size\n",
    "                        )"
   ]
  },
  {
   "cell_type": "code",
   "execution_count": null,
   "id": "872351f6-7e1e-4c61-bb87-031ef5dd9cd5",
   "metadata": {},
   "outputs": [],
   "source": [
    "# Check the Data Shapes of DataLoader Iteration\n",
    "\n",
    "x_next, y_next = len(train_loader)\n",
    "\n",
    "print('Input  Sample : \\n{}'.format(x_next))\n",
    "print('Output Sample : \\n{}'.format(y_next))"
   ]
  },
  {
   "cell_type": "code",
   "execution_count": null,
   "id": "cc7b78a3-f778-4187-ad42-a45021baee50",
   "metadata": {},
   "outputs": [],
   "source": [
    "class SentimentAnalysis(nn.Module):\n",
    "    def __init__(\n",
    "                self, \n",
    "                vocab_size, \n",
    "                num_layers=2,\n",
    "                embedding_dim=256,\n",
    "                hidden_dim_lstm=256,\n",
    "                hidden_dim_linear1=512,\n",
    "                hidden_dim_linear2=256,\n",
    "                hidden_dim_linear3=64,\n",
    "                dropout_rate = 0.4\n",
    "                ):\n",
    "        super(SentimentAnalysis,self).__init__()\n",
    "        \n",
    "        self.embedding_layer = nn.Embedding(vocab_size, embedding_dim)\n",
    "        self.lstm_layer = nn.LSTM(\n",
    "                                input_size=embedding_dim,\n",
    "                                hidden_size=hidden_dim_lstm,\n",
    "                                num_layers=num_layers, \n",
    "                                batch_first=True\n",
    "                                )\n",
    "        \n",
    "        self.dropout_layer = nn.Dropout(dropout_rate)\n",
    "\n",
    "        self.linear_layer1 = nn.Linear(hidden_dim_linear1, hidden_dim_linear2)\n",
    "        self.linear_layer2 = nn.Linear(hidden_dim_linear2, hidden_dim_linear3)\n",
    "        self.linear_layer3 = nn.Linear(hidden_dim_linear3, 1)\n",
    "        \n",
    "        self.output_layer = nn.Sigmoid()\n",
    "        \n",
    "    def forward(self,x,hidden):\n",
    "        batch_size = x.size(0)\n",
    "        # embeddings and lstm_out\n",
    "        embeds = self.embedding(x)  # shape: B x S x Feature   since batch = True\n",
    "        #print(embeds.shape)  #[50, 500, 1000]\n",
    "        lstm_out, hidden = self.lstm(embeds, hidden)\n",
    "        \n",
    "        lstm_out = lstm_out.contiguous().view(-1, self.hidden_dim) \n",
    "        \n",
    "        # dropout and fully connected layer\n",
    "        out = self.dropout(lstm_out)\n",
    "        out = self.fc(out)\n",
    "        \n",
    "        # sigmoid function\n",
    "        sig_out = self.sig(out)\n",
    "        \n",
    "        # reshape to be batch_size first\n",
    "        sig_out = sig_out.view(batch_size, -1)\n",
    "\n",
    "        sig_out = sig_out[:, -1] # get last batch of labels\n",
    "        \n",
    "        # return last sigmoid output and hidden state\n",
    "        return sig_out, hidden\n",
    "        \n",
    "        \n",
    "        \n",
    "    def init_hidden(self, batch_size):\n",
    "        ''' Initializes hidden state '''\n",
    "        # Create two new tensors with sizes n_layers x batch_size x hidden_dim,\n",
    "        # initialized to zero, for hidden state and cell state of LSTM\n",
    "        h0 = torch.zeros((self.no_layers,batch_size,self.hidden_dim)).to(device)\n",
    "        c0 = torch.zeros((self.no_layers,batch_size,self.hidden_dim)).to(device)\n",
    "        hidden = (h0,c0)\n",
    "        return hidden\n"
   ]
  }
 ],
 "metadata": {
  "kernelspec": {
   "display_name": "Python 3",
   "language": "python",
   "name": "python3"
  },
  "language_info": {
   "codemirror_mode": {
    "name": "ipython",
    "version": 3
   },
   "file_extension": ".py",
   "mimetype": "text/x-python",
   "name": "python",
   "nbconvert_exporter": "python",
   "pygments_lexer": "ipython3",
   "version": "3.7.11"
  }
 },
 "nbformat": 4,
 "nbformat_minor": 5
}
