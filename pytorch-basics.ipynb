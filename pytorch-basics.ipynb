{
 "cells": [
  {
   "cell_type": "markdown",
   "id": "12ab9fa5",
   "metadata": {
    "papermill": {
     "duration": 0.010108,
     "end_time": "2022-01-16T06:22:29.246880",
     "exception": false,
     "start_time": "2022-01-16T06:22:29.236772",
     "status": "completed"
    },
    "tags": []
   },
   "source": [
    "# **Tensors**"
   ]
  },
  {
   "cell_type": "code",
   "execution_count": 1,
   "id": "f33b8939",
   "metadata": {
    "execution": {
     "iopub.execute_input": "2022-01-16T06:22:29.269456Z",
     "iopub.status.busy": "2022-01-16T06:22:29.268344Z",
     "iopub.status.idle": "2022-01-16T06:22:30.481200Z",
     "shell.execute_reply": "2022-01-16T06:22:30.481742Z",
     "shell.execute_reply.started": "2022-01-16T06:15:28.291773Z"
    },
    "papermill": {
     "duration": 1.225583,
     "end_time": "2022-01-16T06:22:30.482060",
     "exception": false,
     "start_time": "2022-01-16T06:22:29.256477",
     "status": "completed"
    },
    "tags": []
   },
   "outputs": [
    {
     "data": {
      "text/plain": [
       "tensor([[-5.4034e+11,  4.5661e-41, -5.4034e+11],\n",
       "        [ 4.5661e-41, -5.6967e-39,  4.5661e-41],\n",
       "        [-5.6466e-39,  4.5661e-41, -4.5076e-32]])"
      ]
     },
     "execution_count": 1,
     "metadata": {},
     "output_type": "execute_result"
    }
   ],
   "source": [
    "import torch \n",
    "\n",
    "#empty tensor\n",
    "x = torch.empty(3, 3)\n",
    "x"
   ]
  },
  {
   "cell_type": "code",
   "execution_count": 2,
   "id": "735fc3e1",
   "metadata": {
    "execution": {
     "iopub.execute_input": "2022-01-16T06:22:30.508371Z",
     "iopub.status.busy": "2022-01-16T06:22:30.507652Z",
     "iopub.status.idle": "2022-01-16T06:22:30.515846Z",
     "shell.execute_reply": "2022-01-16T06:22:30.515273Z",
     "shell.execute_reply.started": "2022-01-16T06:15:28.818844Z"
    },
    "papermill": {
     "duration": 0.023564,
     "end_time": "2022-01-16T06:22:30.515992",
     "exception": false,
     "start_time": "2022-01-16T06:22:30.492428",
     "status": "completed"
    },
    "tags": []
   },
   "outputs": [
    {
     "data": {
      "text/plain": [
       "tensor([[0.8355, 0.9963, 0.8944],\n",
       "        [0.4939, 0.3926, 0.9050],\n",
       "        [0.1120, 0.6567, 0.6455]])"
      ]
     },
     "execution_count": 2,
     "metadata": {},
     "output_type": "execute_result"
    }
   ],
   "source": [
    "#random tensor\n",
    "x = torch.rand(3,3)\n",
    "x"
   ]
  },
  {
   "cell_type": "code",
   "execution_count": 3,
   "id": "e388db47",
   "metadata": {
    "execution": {
     "iopub.execute_input": "2022-01-16T06:22:30.542583Z",
     "iopub.status.busy": "2022-01-16T06:22:30.541874Z",
     "iopub.status.idle": "2022-01-16T06:22:30.546639Z",
     "shell.execute_reply": "2022-01-16T06:22:30.547172Z",
     "shell.execute_reply.started": "2022-01-16T06:17:04.757654Z"
    },
    "papermill": {
     "duration": 0.020923,
     "end_time": "2022-01-16T06:22:30.547341",
     "exception": false,
     "start_time": "2022-01-16T06:22:30.526418",
     "status": "completed"
    },
    "tags": []
   },
   "outputs": [
    {
     "data": {
      "text/plain": [
       "(tensor([[1., 1.],\n",
       "         [1., 1.]]),\n",
       " torch.float32)"
      ]
     },
     "execution_count": 3,
     "metadata": {},
     "output_type": "execute_result"
    }
   ],
   "source": [
    "#tensor with dtype param\n",
    "x = torch.ones(2,2, dtype=torch.float32)\n",
    "x, x.dtype"
   ]
  },
  {
   "cell_type": "code",
   "execution_count": 4,
   "id": "14793d74",
   "metadata": {
    "execution": {
     "iopub.execute_input": "2022-01-16T06:22:30.573486Z",
     "iopub.status.busy": "2022-01-16T06:22:30.572467Z",
     "iopub.status.idle": "2022-01-16T06:22:30.578569Z",
     "shell.execute_reply": "2022-01-16T06:22:30.579064Z",
     "shell.execute_reply.started": "2022-01-16T06:17:58.132692Z"
    },
    "papermill": {
     "duration": 0.020512,
     "end_time": "2022-01-16T06:22:30.579241",
     "exception": false,
     "start_time": "2022-01-16T06:22:30.558729",
     "status": "completed"
    },
    "tags": []
   },
   "outputs": [
    {
     "data": {
      "text/plain": [
       "tensor([1, 0, 2, 3])"
      ]
     },
     "execution_count": 4,
     "metadata": {},
     "output_type": "execute_result"
    }
   ],
   "source": [
    "#List to Tensor\n",
    "\n",
    "x = torch.tensor([1,0,2,3])\n",
    "x"
   ]
  },
  {
   "cell_type": "markdown",
   "id": "af3ae18e",
   "metadata": {
    "papermill": {
     "duration": 0.016442,
     "end_time": "2022-01-16T06:22:30.606905",
     "exception": false,
     "start_time": "2022-01-16T06:22:30.590463",
     "status": "completed"
    },
    "tags": []
   },
   "source": [
    "# **Basic Operations**"
   ]
  },
  {
   "cell_type": "code",
   "execution_count": 5,
   "id": "86b5fdda",
   "metadata": {
    "execution": {
     "iopub.execute_input": "2022-01-16T06:22:30.644240Z",
     "iopub.status.busy": "2022-01-16T06:22:30.643255Z",
     "iopub.status.idle": "2022-01-16T06:22:30.649909Z",
     "shell.execute_reply": "2022-01-16T06:22:30.650745Z",
     "shell.execute_reply.started": "2022-01-16T06:19:20.750166Z"
    },
    "papermill": {
     "duration": 0.026185,
     "end_time": "2022-01-16T06:22:30.650939",
     "exception": false,
     "start_time": "2022-01-16T06:22:30.624754",
     "status": "completed"
    },
    "tags": []
   },
   "outputs": [
    {
     "data": {
      "text/plain": [
       "(tensor([[0.9450, 0.1648, 0.3689, 0.8093],\n",
       "         [0.7535, 0.9527, 0.3047, 0.4240]]),\n",
       " tensor([[0.8039, 0.6142, 0.4769, 0.9272],\n",
       "         [0.4045, 0.9923, 0.0176, 0.6640]]))"
      ]
     },
     "execution_count": 5,
     "metadata": {},
     "output_type": "execute_result"
    }
   ],
   "source": [
    "x = torch.rand(2,4)\n",
    "y = torch.rand(2,4)\n",
    "x, y"
   ]
  },
  {
   "cell_type": "code",
   "execution_count": 6,
   "id": "32f8e44a",
   "metadata": {
    "execution": {
     "iopub.execute_input": "2022-01-16T06:22:30.679821Z",
     "iopub.status.busy": "2022-01-16T06:22:30.679201Z",
     "iopub.status.idle": "2022-01-16T06:22:30.686773Z",
     "shell.execute_reply": "2022-01-16T06:22:30.687238Z",
     "shell.execute_reply.started": "2022-01-16T06:19:25.122541Z"
    },
    "papermill": {
     "duration": 0.021913,
     "end_time": "2022-01-16T06:22:30.687410",
     "exception": false,
     "start_time": "2022-01-16T06:22:30.665497",
     "status": "completed"
    },
    "tags": []
   },
   "outputs": [
    {
     "data": {
      "text/plain": [
       "tensor([[1.7489, 0.7789, 0.8458, 1.7365],\n",
       "        [1.1580, 1.9449, 0.3223, 1.0880]])"
      ]
     },
     "execution_count": 6,
     "metadata": {},
     "output_type": "execute_result"
    }
   ],
   "source": [
    "# addition / subtraction\n",
    "z = x + y\n",
    "z"
   ]
  },
  {
   "cell_type": "code",
   "execution_count": 7,
   "id": "9eda0d28",
   "metadata": {
    "execution": {
     "iopub.execute_input": "2022-01-16T06:22:30.715635Z",
     "iopub.status.busy": "2022-01-16T06:22:30.715011Z",
     "iopub.status.idle": "2022-01-16T06:22:30.719131Z",
     "shell.execute_reply": "2022-01-16T06:22:30.719731Z",
     "shell.execute_reply.started": "2022-01-16T06:20:37.532809Z"
    },
    "papermill": {
     "duration": 0.021182,
     "end_time": "2022-01-16T06:22:30.719894",
     "exception": false,
     "start_time": "2022-01-16T06:22:30.698712",
     "status": "completed"
    },
    "tags": []
   },
   "outputs": [
    {
     "data": {
      "text/plain": [
       "tensor([[0.7597, 0.1012, 0.1759, 0.7504],\n",
       "        [0.3048, 0.9453, 0.0054, 0.2815]])"
      ]
     },
     "execution_count": 7,
     "metadata": {},
     "output_type": "execute_result"
    }
   ],
   "source": [
    "# multiplication\n",
    "z = torch.mul(x, y)\n",
    "z"
   ]
  },
  {
   "cell_type": "code",
   "execution_count": 8,
   "id": "02b790c1",
   "metadata": {
    "execution": {
     "iopub.execute_input": "2022-01-16T06:22:30.745900Z",
     "iopub.status.busy": "2022-01-16T06:22:30.745293Z",
     "iopub.status.idle": "2022-01-16T06:22:30.752194Z",
     "shell.execute_reply": "2022-01-16T06:22:30.752776Z",
     "shell.execute_reply.started": "2022-01-16T06:21:40.078040Z"
    },
    "papermill": {
     "duration": 0.021553,
     "end_time": "2022-01-16T06:22:30.752939",
     "exception": false,
     "start_time": "2022-01-16T06:22:30.731386",
     "status": "completed"
    },
    "tags": []
   },
   "outputs": [
    {
     "data": {
      "text/plain": [
       "(tensor([[0.4345, 0.8765, 0.7068],\n",
       "         [0.6267, 0.9644, 0.4721],\n",
       "         [0.7835, 0.2906, 0.2253],\n",
       "         [0.1909, 0.7015, 0.7442],\n",
       "         [0.8479, 0.8723, 0.4348]]),\n",
       " tensor([0.4345, 0.6267, 0.7835, 0.1909, 0.8479]))"
      ]
     },
     "execution_count": 8,
     "metadata": {},
     "output_type": "execute_result"
    }
   ],
   "source": [
    "# slicing\n",
    "x = torch.rand(5,3)\n",
    "first_column = x[:,0]\n",
    "x, first_column"
   ]
  },
  {
   "cell_type": "code",
   "execution_count": null,
   "id": "d3d963ce",
   "metadata": {
    "papermill": {
     "duration": 0.011523,
     "end_time": "2022-01-16T06:22:30.776299",
     "exception": false,
     "start_time": "2022-01-16T06:22:30.764776",
     "status": "completed"
    },
    "tags": []
   },
   "outputs": [],
   "source": []
  }
 ],
 "metadata": {
  "kernelspec": {
   "display_name": "Python 3",
   "language": "python",
   "name": "python3"
  },
  "language_info": {
   "codemirror_mode": {
    "name": "ipython",
    "version": 3
   },
   "file_extension": ".py",
   "mimetype": "text/x-python",
   "name": "python",
   "nbconvert_exporter": "python",
   "pygments_lexer": "ipython3",
   "version": "3.7.12"
  },
  "papermill": {
   "default_parameters": {},
   "duration": 11.705422,
   "end_time": "2022-01-16T06:22:31.499158",
   "environment_variables": {},
   "exception": null,
   "input_path": "__notebook__.ipynb",
   "output_path": "__notebook__.ipynb",
   "parameters": {},
   "start_time": "2022-01-16T06:22:19.793736",
   "version": "2.3.3"
  }
 },
 "nbformat": 4,
 "nbformat_minor": 5
}
